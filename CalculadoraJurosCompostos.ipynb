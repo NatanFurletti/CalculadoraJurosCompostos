{
 "cells": [
  {
   "cell_type": "markdown",
   "id": "f85ab6af-1691-4df7-b49b-d1a30560cd68",
   "metadata": {},
   "source": [
    "# Projeto criando uma calculadora de juros compostos\n",
    "* Fórmula de juros compostos: montante = inicial *(1+taxa)**tempo\n"
   ]
  },
  {
   "cell_type": "code",
   "execution_count": 37,
   "id": "a4462492-bd7b-4a36-9e37-4cd0e2c64749",
   "metadata": {},
   "outputs": [
    {
     "name": "stdin",
     "output_type": "stream",
     "text": [
      "Qual é o seuu nome? Natan\n"
     ]
    },
    {
     "name": "stdout",
     "output_type": "stream",
     "text": [
      "Olá Natan, seja muito bem vindo aos juros compostos!\n"
     ]
    },
    {
     "name": "stdin",
     "output_type": "stream",
     "text": [
      "Qual o valor que deseja investir? 10000\n",
      "Por quantos anos deseja deixar seu dinheiro investido? 20\n",
      "Digite, em decimal, qual a taxa anual de retorno do seu investimento:  1.0\n",
      "Quanto dinheiro você pretende investir todo mes? 2000\n",
      "Quanto voce deseja receber por mes para se aposentar? 10000\n"
     ]
    },
    {
     "name": "stdout",
     "output_type": "stream",
     "text": [
      "--------------------------------------------\n",
      "Parabéns Natan, ao final do período você terá R$976000\n",
      "Parabéns Natan, você pode se aposentar! Seu salário mensal com esse montante é de R$ 81333.33\n"
     ]
    }
   ],
   "source": [
    "nome = input(\"Qual é o seuu nome?\")\n",
    "\n",
    "print(f\"Olá {nome}, seja muito bem vindo aos juros compostos!\")\n",
    "\n",
    "montante_inicial = int(input('Qual o valor que deseja investir?' ))\n",
    "\n",
    "tempo = int(input('Por quantos anos deseja deixar seu dinheiro investido?' ))\n",
    "\n",
    "taxa = float(input('Digite, em decimal, qual a taxa anual de retorno do seu investimento: '))\n",
    "\n",
    "aporte = int(input('Quanto dinheiro você pretende investir todo mes?'))\n",
    "\n",
    "salario_desejado = int(input('Quanto voce deseja receber por mes para se aposentar?'))\n",
    "\n",
    "meses_aporte = 0\n",
    "\n",
    "while meses_aporte < (tempo*12):\n",
    "    if meses_aporte == 0:\n",
    "\n",
    "        montante = montante_inicial*(1+taxa)**1\n",
    "        meses_aporte = meses_aporte +1\n",
    "\n",
    "    else:\n",
    "        montante = montante+aporte*(1+taxa)**1\n",
    "        meses_aporte = meses_aporte +1\n",
    "\n",
    "\n",
    "print('--------------------------------------------')\n",
    "\n",
    "\n",
    "\n",
    "print(f\"Parabéns {nome}, ao final do período você terá R${ round(montante)}\")\n",
    "\n",
    "salario_mensal = (montante * taxa)/12\n",
    "salario_mensal = round(salario_mensal, 2)\n",
    "\n",
    "if salario_mensal > salario_desejado:\n",
    "    print(f'Parabéns {nome}, você pode se aposentar! Seu salário mensal com esse montante é de R$ {salario_mensal}')\n",
    "\n",
    "elif salario_mensal < salario_desejado:\n",
    "    print(f'Infelizmente se aposentar não será possivel. Com esse montante seu salário mensal é de R$ {salario_mensal}')\n",
    "            "
   ]
  },
  {
   "cell_type": "code",
   "execution_count": 62,
   "id": "a904e272-61a8-4687-a1cd-e0381a956f81",
   "metadata": {},
   "outputs": [
    {
     "name": "stdout",
     "output_type": "stream",
     "text": [
      "On branch main\n",
      "\n",
      "No commits yet\n",
      "\n",
      "Untracked files:\n",
      "  (use \"git add <file>...\" to include in what will be committed)\n",
      "\t.anaconda/\n",
      "\t.bash_history\n",
      "\t.conda/\n",
      "\t.condarc\n",
      "\t.continuum/\n",
      "\t.gitconfig\n",
      "\t.ipynb_checkpoints/\n",
      "\t.ipython/\n",
      "\t.jupyter/\n",
      "\t.ssh/\n",
      "\t.vscode/\n",
      "\t3D Objects/\n",
      "\tAppData/\n",
      "\tCalculadoraJurosCompostos.ipynb\n",
      "\tContacts/\n",
      "\tDocuments/\n",
      "\tDownloads/\n",
      "\tFavorites/\n",
      "\tLinks/\n",
      "\tMusic/\n",
      "\tNTUSER.DAT\n",
      "\tNTUSER.DAT{c0ba500b-b08f-11ee-b98c-f3b0762e7a2a}.TM.blf\n",
      "\tNTUSER.DAT{c0ba500b-b08f-11ee-b98c-f3b0762e7a2a}.TMContainer00000000000000000001.regtrans-ms\n",
      "\tNTUSER.DAT{c0ba500b-b08f-11ee-b98c-f3b0762e7a2a}.TMContainer00000000000000000002.regtrans-ms\n",
      "\tOneDrive/\n",
      "\tPictures/\n",
      "\tSaved Games/\n",
      "\tSearches/\n",
      "\tVideos/\n",
      "\tanaconda3/\n",
      "\tntuser.dat.LOG1\n",
      "\tntuser.dat.LOG2\n",
      "\tntuser.ini\n",
      "\n",
      "nothing added to commit but untracked files present (use \"git add\" to track)\n"
     ]
    },
    {
     "name": "stderr",
     "output_type": "stream",
     "text": [
      "warning: could not open directory 'Ambiente de ImpressÃ£o/': Permission denied\n",
      "warning: could not open directory 'Ambiente de Rede/': Permission denied\n",
      "warning: could not open directory 'ConfiguraÃ§Ãµes Locais/': Permission denied\n",
      "warning: could not open directory 'Cookies/': Permission denied\n",
      "warning: could not open directory 'Dados de Aplicativos/': Permission denied\n",
      "warning: could not open directory 'Menu Iniciar/': Permission denied\n",
      "warning: could not open directory 'Meus Documentos/': Permission denied\n",
      "warning: could not open directory 'Modelos/': Permission denied\n",
      "warning: could not open directory 'Recent/': Permission denied\n",
      "warning: could not open directory 'SendTo/': Permission denied\n"
     ]
    }
   ],
   "source": []
  }
 ],
 "metadata": {
  "kernelspec": {
   "display_name": "Python 3 (ipykernel)",
   "language": "python",
   "name": "python3"
  },
  "language_info": {
   "codemirror_mode": {
    "name": "ipython",
    "version": 3
   },
   "file_extension": ".py",
   "mimetype": "text/x-python",
   "name": "python",
   "nbconvert_exporter": "python",
   "pygments_lexer": "ipython3",
   "version": "3.12.4"
  }
 },
 "nbformat": 4,
 "nbformat_minor": 5
}
